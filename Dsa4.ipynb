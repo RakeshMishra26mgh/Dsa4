{
  "nbformat": 4,
  "nbformat_minor": 0,
  "metadata": {
    "colab": {
      "provenance": [],
      "authorship_tag": "ABX9TyOo670oA5uznpJhuSGqQ6WB",
      "include_colab_link": true
    },
    "kernelspec": {
      "name": "python3",
      "display_name": "Python 3"
    },
    "language_info": {
      "name": "python"
    }
  },
  "cells": [
    {
      "cell_type": "markdown",
      "metadata": {
        "id": "view-in-github",
        "colab_type": "text"
      },
      "source": [
        "<a href=\"https://colab.research.google.com/github/RakeshMishra26mgh/Dsa4/blob/main/Dsa4.ipynb\" target=\"_parent\"><img src=\"https://colab.research.google.com/assets/colab-badge.svg\" alt=\"Open In Colab\"/></a>"
      ]
    },
    {
      "cell_type": "markdown",
      "source": [
        "Answer 1:-"
      ],
      "metadata": {
        "id": "L9ZU50aBAcdH"
      }
    },
    {
      "cell_type": "code",
      "source": [
        "def find_common_elements(arr1, arr2, arr3):\n",
        "  common = []\n",
        "  i = j = k = 0\n",
        "  while i < len(arr1) and j < len(arr2) and k < len(arr3):\n",
        "    if arr1[i] == arr2[j] == arr3[k]:\n",
        "      common.append(arr1[i])\n",
        "      i += 1\n",
        "      j += 1\n",
        "      k += 1\n",
        "    else:\n",
        "      if arr1[i] < arr2[j]:\n",
        "        i += 1\n",
        "      elif arr2[j] < arr3[k]:\n",
        "        j += 1\n",
        "      else:\n",
        "        k += 1\n",
        "  return common\n",
        "\n",
        "def convert_to_sorted_list(s):\n",
        "  lst = list(map(int, s.split(\",\")))\n",
        "  lst.sort()\n",
        "  return lst\n",
        "\n",
        "arr1 = convert_to_sorted_list(input(\"Enter the first array separated by commas: \"))\n",
        "arr2 = convert_to_sorted_list(input(\"Enter the second array separated by commas: \"))\n",
        "arr3 = convert_to_sorted_list(input(\"Enter the third array separated by commas: \"))\n",
        "\n",
        "if not arr1 or not arr2 or not arr3:\n",
        "  print(\"One or more of the arrays is empty. No common elements can be found.\")\n",
        "else:\n",
        "  result = find_common_elements(arr1, arr2, arr3)\n",
        "  print(\"The common elements are:\", result)\n"
      ],
      "metadata": {
        "id": "fuRCSUvKAeUU"
      },
      "execution_count": null,
      "outputs": []
    },
    {
      "cell_type": "markdown",
      "source": [
        "Answer 2:-"
      ],
      "metadata": {
        "id": "C_Ia9n35DBQp"
      }
    },
    {
      "cell_type": "code",
      "source": [
        "def find_missing_elements(nums1, nums2):\n",
        "  answer = []\n",
        "  set1 = set(nums1)\n",
        "  set2 = set(nums2)\n",
        "  answer.append(list(set1 - set2))\n",
        "  answer.append(list(set2 - set1))\n",
        "  return answer\n",
        "\n",
        "def convert_to_list(s):\n",
        "  lst = list(map(int, s.split(\",\")))\n",
        "  return lst\n",
        "\n",
        "nums1 = convert_to_list(input(\"Enter the first array separated by commas: \"))\n",
        "nums2 = convert_to_list(input(\"Enter the second array separated by commas: \"))\n",
        "\n",
        "if not nums1 or not nums2:\n",
        "  print(\"One or more of the arrays is empty. No missing elements can be found.\")\n",
        "else:\n",
        "  result = find_missing_elements(nums1, nums2)\n",
        "  print(\"The missing elements are:\", result)\n"
      ],
      "metadata": {
        "id": "LMD0GO1iDE9T"
      },
      "execution_count": null,
      "outputs": []
    },
    {
      "cell_type": "markdown",
      "source": [
        "Answer 3:-"
      ],
      "metadata": {
        "id": "e9ZRAhaCEciP"
      }
    },
    {
      "cell_type": "code",
      "source": [
        "def transpose(matrix):\n",
        "  result = []\n",
        "  for j in range(len(matrix[0])):\n",
        "    row = []\n",
        "    for i in range(len(matrix)):\n",
        "      row.append(matrix[i][j])\n",
        "    result.append(row)\n",
        "  return result\n",
        "\n",
        "rows = int(input(\"Enter the number of rows of the matrix: \"))\n",
        "cols = int(input(\"Enter the number of columns of the matrix: \"))\n",
        "\n",
        "matrix = []\n",
        "\n",
        "for i in range(rows):\n",
        "  row = list(map(int, input(f\"Enter the elements of row {i+1} separated by space: \").split()))\n",
        "  if len(row) != cols:\n",
        "    print(\"Invalid input. The row must have exactly cols elements.\")\n",
        "    exit()\n",
        "  matrix.append(row)\n",
        "\n",
        "output = transpose(matrix)\n",
        "print(\"The transposed matrix is:\", output)\n"
      ],
      "metadata": {
        "id": "yNxYbph7PyT-"
      },
      "execution_count": null,
      "outputs": []
    },
    {
      "cell_type": "markdown",
      "source": [
        "Answer 4:-"
      ],
      "metadata": {
        "id": "UJFGUzy4F8Tg"
      }
    },
    {
      "cell_type": "code",
      "source": [
        "def array_pair_sum(nums):\n",
        "  sum = 0\n",
        "  nums.sort()\n",
        "  for i in range(0, len(nums), 2):\n",
        "    sum += nums[i]\n",
        "  return sum\n",
        "\n",
        "def convert_to_list(s):\n",
        "  lst = list(map(int, s.split(\",\")))\n",
        "  return lst\n",
        "\n",
        "nums = convert_to_list(input(\"Enter the array separated by commas: \"))\n",
        "\n",
        "if len(nums) % 2 != 0:\n",
        "  print(\"Invalid input. The length of the array must be even.\")\n",
        "  exit()\n",
        "\n",
        "print(array_pair_sum(nums))\n"
      ],
      "metadata": {
        "id": "YRfPSmVeF-MX"
      },
      "execution_count": null,
      "outputs": []
    },
    {
      "cell_type": "markdown",
      "source": [
        "Answer 5:-"
      ],
      "metadata": {
        "id": "8TUWEaydG5X1"
      }
    },
    {
      "cell_type": "code",
      "source": [
        "def arrange_coins(n):\n",
        "  rows = 0\n",
        "  coins = 1\n",
        "  while n >= coins:\n",
        "    n -= coins\n",
        "    rows += 1\n",
        "    coins += 1\n",
        "  return rows\n",
        "\n",
        "n = int(input(\"Enter the number of coins: \"))\n",
        "\n",
        "if n <= 0:\n",
        "  print(\"Invalid input. The number of coins must be positive.\")\n",
        "  exit()\n",
        "\n",
        "result = arrange_coins(n)\n",
        "print(\"The number of complete rows of the staircase is:\", result)\n"
      ],
      "metadata": {
        "id": "dNnlxK29G8Qv"
      },
      "execution_count": null,
      "outputs": []
    },
    {
      "cell_type": "markdown",
      "source": [
        "Answer 6:-"
      ],
      "metadata": {
        "id": "5djiavM-IML2"
      }
    },
    {
      "cell_type": "code",
      "source": [
        "\n",
        "def sorted_squares(nums):\n",
        "  squares = []\n",
        "  for num in nums:\n",
        "    squares.append(num ** 2)\n",
        "  squares.sort()\n",
        "  return squares\n",
        "\n",
        "def convert_to_list(s):\n",
        "  lst = list(map(int, s.split(\",\")))\n",
        "  return lst\n",
        "\n",
        "nums = convert_to_list(input(\"Enter the array separated by commas: \"))\n",
        "\n",
        "if all(nums[i] <= nums[i+1] for i in range(len(nums)-1)):\n",
        "  result = sorted_squares(nums)\n",
        "  print(\"The array of the squares of each number sorted in non-decreasing order is:\", result)\n",
        "else:\n",
        "  print(\"Invalid input. The array must be sorted in non-decreasing order.\")\n",
        "  exit()\n"
      ],
      "metadata": {
        "id": "BKuGl2ArIOcP"
      },
      "execution_count": null,
      "outputs": []
    },
    {
      "cell_type": "markdown",
      "source": [
        "Answer 7:-"
      ],
      "metadata": {
        "id": "_XifbTpnJbLO"
      }
    },
    {
      "cell_type": "code",
      "source": [
        "def count_max(matrix):\n",
        "  max_value = 0\n",
        "  count = 0\n",
        "  for row in matrix:\n",
        "    for element in row:\n",
        "      if element > max_value:\n",
        "        max_value = element\n",
        "        count = 1\n",
        "      elif element == max_value:\n",
        "        count += 1\n",
        "  return count\n",
        "\n",
        "m = int(input(\"Enter the number of rows in the matrix: \"))\n",
        "n = int(input(\"Enter the number of columns in the matrix: \"))\n",
        "ops = []\n",
        "k = int(input(\"Enter the number of operations: \"))\n",
        "for i in range(k):\n",
        "  a = int(input(f\"Enter a{i+1}: \"))\n",
        "  b = int(input(f\"Enter b{i+1}: \"))\n",
        "  ops.append([a,b])\n",
        "\n",
        "matrix = [[0] * n for _ in range(m)]\n",
        "\n",
        "for op in ops:\n",
        "  a = op[0]\n",
        "  b = op[1]\n",
        "  for x in range(a):\n",
        "    for y in range(b):\n",
        "      matrix[x][y] += 1\n",
        "\n",
        "print(\"The matrix after performing the operations is:\")\n",
        "for row in matrix:\n",
        "  print(row)\n",
        "\n",
        "print(\"The number of maximum integers in the matrix is:\", count_max(matrix))\n"
      ],
      "metadata": {
        "id": "Z7PKQvTBJeEm"
      },
      "execution_count": null,
      "outputs": []
    },
    {
      "cell_type": "markdown",
      "source": [
        "Answer 8:-"
      ],
      "metadata": {
        "id": "Ea_UGyHxKgg0"
      }
    },
    {
      "cell_type": "code",
      "source": [
        "def shuffle(nums, n):\n",
        "  result = []\n",
        "  for i in range(n):\n",
        "    result.append(nums[i])\n",
        "    result.append(nums[i+n])\n",
        "  return result\n",
        "\n",
        "nums = list(map(int, input(\"Enter the array elements separated by space: \").split()))\n",
        "n = int(input(\"Enter the value of n: \"))\n",
        "\n",
        "if len(nums) != 2*n:\n",
        "  print(\"Invalid input. The array must have 2n elements.\")\n",
        "  exit()\n",
        "\n",
        "output = shuffle(nums, n)\n",
        "print(\"The shuffled array is:\", output)\n"
      ],
      "metadata": {
        "id": "AsBK523EKihr"
      },
      "execution_count": null,
      "outputs": []
    }
  ]
}